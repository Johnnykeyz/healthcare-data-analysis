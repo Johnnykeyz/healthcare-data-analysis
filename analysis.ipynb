{
 "cells": [
  {
   "cell_type": "code",
   "execution_count": 1,
   "id": "bf49376e",
   "metadata": {},
   "outputs": [],
   "source": [
    "\"\"\"\n",
    "Healthcare Data Analysis Project\n",
    "Analyzing patient treatment outcomes, costs, and resource utilization\n",
    "\"\"\"\n",
    "\n",
    "import pandas as pd\n",
    "import numpy as np\n",
    "import matplotlib.pyplot as plt\n",
    "import seaborn as sns\n",
    "from datetime import datetime\n",
    "import json\n",
    "\n",
    "# Set style for better-looking plots\n",
    "plt.style.use('seaborn-v0_8-darkgrid')\n",
    "sns.set_palette(\"husl\")"
   ]
  },
  {
   "cell_type": "code",
   "execution_count": 2,
   "id": "fdc3b325",
   "metadata": {},
   "outputs": [
    {
     "name": "stdout",
     "output_type": "stream",
     "text": [
      "============================================================\n",
      "HEALTHCARE DATA ANALYSIS PROJECT\n",
      "============================================================\n",
      "\n",
      "📊 Dataset Overview:\n",
      "Total Patients: 70\n",
      "Date Range: 2024-01-05 to 2024-07-05\n",
      "\n",
      "Columns: patient_id, age, gender, condition, treatment_type, admission_date, discharge_date, length_of_stay, total_cost, treatment_success, readmitted, insurance_type, doctor_visits\n",
      "\n",
      "============================================================\n",
      "BASIC STATISTICS\n",
      "============================================================\n",
      "             age  length_of_stay    total_cost  doctor_visits\n",
      "count  70.000000       70.000000     70.000000      70.000000\n",
      "mean   52.857143        5.128571  12957.142857       3.914286\n",
      "std    14.898970        1.817160   4767.053945       1.576483\n",
      "min    28.000000        3.000000   7200.000000       2.000000\n",
      "25%    39.250000        4.000000   8950.000000       3.000000\n",
      "50%    55.500000        4.000000  11450.000000       3.000000\n",
      "75%    66.000000        7.000000  17025.000000       5.000000\n",
      "max    76.000000        8.000000  23100.000000       7.000000\n",
      "\n",
      "🔍 Missing Values:\n",
      "patient_id           0\n",
      "age                  0\n",
      "gender               0\n",
      "condition            0\n",
      "treatment_type       0\n",
      "admission_date       0\n",
      "discharge_date       0\n",
      "length_of_stay       0\n",
      "total_cost           0\n",
      "treatment_success    0\n",
      "readmitted           0\n",
      "insurance_type       0\n",
      "doctor_visits        0\n",
      "dtype: int64\n"
     ]
    }
   ],
   "source": [
    "# ==================== STEP 1: LOAD & EXPLORE DATA ====================\n",
    "print(\"=\" * 60)\n",
    "print(\"HEALTHCARE DATA ANALYSIS PROJECT\")\n",
    "print(\"=\" * 60)\n",
    "\n",
    "# Load the dataset\n",
    "df = pd.read_csv('healthcare_data.csv')\n",
    "\n",
    "print(\"\\n📊 Dataset Overview:\")\n",
    "print(f\"Total Patients: {len(df)}\")\n",
    "print(f\"Date Range: {df['admission_date'].min()} to {df['discharge_date'].max()}\")\n",
    "print(f\"\\nColumns: {', '.join(df.columns)}\")\n",
    "\n",
    "# Basic statistics\n",
    "print(\"\\n\" + \"=\" * 60)\n",
    "print(\"BASIC STATISTICS\")\n",
    "print(\"=\" * 60)\n",
    "print(df.describe())\n",
    "\n",
    "# Check for missing values\n",
    "print(\"\\n🔍 Missing Values:\")\n",
    "print(df.isnull().sum())"
   ]
  },
  {
   "cell_type": "code",
   "execution_count": 3,
   "id": "c975b0f5",
   "metadata": {},
   "outputs": [
    {
     "name": "stdout",
     "output_type": "stream",
     "text": [
      "\n",
      "============================================================\n",
      "DATA CLEANING\n",
      "============================================================\n",
      "✅ Data cleaned and prepared!\n",
      "Date columns converted to datetime format\n",
      "Added binary columns for statistical analysis\n"
     ]
    }
   ],
   "source": [
    "# ==================== STEP 2: DATA CLEANING ====================\n",
    "print(\"\\n\" + \"=\" * 60)\n",
    "print(\"DATA CLEANING\")\n",
    "print(\"=\" * 60)\n",
    "\n",
    "# Convert dates to datetime\n",
    "df['admission_date'] = pd.to_datetime(df['admission_date'])\n",
    "df['discharge_date'] = pd.to_datetime(df['discharge_date'])\n",
    "\n",
    "# Extract month for trend analysis\n",
    "df['admission_month'] = df['admission_date'].dt.to_period('M')\n",
    "\n",
    "# Binary encoding for success\n",
    "df['success_binary'] = df['treatment_success'].map({'Yes': 1, 'No': 0})\n",
    "df['readmitted_binary'] = df['readmitted'].map({'Yes': 1, 'No': 0})\n",
    "\n",
    "print(\"✅ Data cleaned and prepared!\")\n",
    "print(f\"Date columns converted to datetime format\")\n",
    "print(f\"Added binary columns for statistical analysis\")"
   ]
  },
  {
   "cell_type": "code",
   "execution_count": 4,
   "id": "f64e8630",
   "metadata": {},
   "outputs": [
    {
     "name": "stdout",
     "output_type": "stream",
     "text": [
      "\n",
      "============================================================\n",
      "KEY PERFORMANCE INDICATORS\n",
      "============================================================\n",
      "\n",
      "📈 Hospital Performance:\n",
      "   • Total Patients Treated: 70\n",
      "   • Average Length of Stay: 5.1 days\n",
      "   • Average Treatment Cost: $12,957.14\n",
      "   • Treatment Success Rate: 92.9%\n",
      "   • Readmission Rate: 4.3%\n"
     ]
    }
   ],
   "source": [
    "# ==================== STEP 3: KEY METRICS ANALYSIS ====================\n",
    "print(\"\\n\" + \"=\" * 60)\n",
    "print(\"KEY PERFORMANCE INDICATORS\")\n",
    "print(\"=\" * 60)\n",
    "\n",
    "# Overall metrics\n",
    "total_patients = len(df)\n",
    "avg_length_stay = df['length_of_stay'].mean()\n",
    "avg_cost = df['total_cost'].mean()\n",
    "success_rate = (df['success_binary'].sum() / total_patients) * 100\n",
    "readmission_rate = (df['readmitted_binary'].sum() / total_patients) * 100\n",
    "\n",
    "print(f\"\\n📈 Hospital Performance:\")\n",
    "print(f\"   • Total Patients Treated: {total_patients}\")\n",
    "print(f\"   • Average Length of Stay: {avg_length_stay:.1f} days\")\n",
    "print(f\"   • Average Treatment Cost: ${avg_cost:,.2f}\")\n",
    "print(f\"   • Treatment Success Rate: {success_rate:.1f}%\")\n",
    "print(f\"   • Readmission Rate: {readmission_rate:.1f}%\")\n"
   ]
  },
  {
   "cell_type": "code",
   "execution_count": 5,
   "id": "7370bb2f",
   "metadata": {},
   "outputs": [
    {
     "name": "stdout",
     "output_type": "stream",
     "text": [
      "\n",
      "============================================================\n",
      "ANALYSIS BY MEDICAL CONDITION\n",
      "============================================================\n",
      "\n",
      "                Patient_Count  Avg_Stay_Days  Avg_Cost  Success_Rate  \\\n",
      "condition                                                             \n",
      "Diabetes                  14           4.07   8921.43         100.0   \n",
      "Heart Disease             15           7.40  17833.33          67.0   \n",
      "Neurological               9           7.56  20688.89         100.0   \n",
      "Orthopedic                14           3.00  12371.43         100.0   \n",
      "Respiratory               18           4.50   8622.22         100.0   \n",
      "\n",
      "               Readmission_Rate  \n",
      "condition                        \n",
      "Diabetes                    0.0  \n",
      "Heart Disease              20.0  \n",
      "Neurological                0.0  \n",
      "Orthopedic                  0.0  \n",
      "Respiratory                 0.0  \n",
      "\n",
      "🏆 Key Findings:\n",
      "   • Best Success Rate: Diabetes (100.0%)\n",
      "   • Needs Improvement: Heart Disease (67.0%)\n",
      "   • Most Expensive: Neurological ($20,688.89)\n"
     ]
    }
   ],
   "source": [
    "\n",
    "# ==================== STEP 4: CONDITION ANALYSIS ====================\n",
    "print(\"\\n\" + \"=\" * 60)\n",
    "print(\"ANALYSIS BY MEDICAL CONDITION\")\n",
    "print(\"=\" * 60)\n",
    "\n",
    "condition_stats = df.groupby('condition').agg({\n",
    "    'patient_id': 'count',\n",
    "    'length_of_stay': 'mean',\n",
    "    'total_cost': 'mean',\n",
    "    'success_binary': 'mean',\n",
    "    'readmitted_binary': 'mean'\n",
    "}).round(2)\n",
    "\n",
    "condition_stats.columns = ['Patient_Count', 'Avg_Stay_Days', 'Avg_Cost', 'Success_Rate', 'Readmission_Rate']\n",
    "condition_stats['Success_Rate'] = (condition_stats['Success_Rate'] * 100).round(1)\n",
    "condition_stats['Readmission_Rate'] = (condition_stats['Readmission_Rate'] * 100).round(1)\n",
    "\n",
    "print(\"\\n\", condition_stats)\n",
    "\n",
    "# Find best and worst performing conditions\n",
    "best_condition = condition_stats['Success_Rate'].idxmax()\n",
    "worst_condition = condition_stats['Success_Rate'].idxmin()\n",
    "most_expensive = condition_stats['Avg_Cost'].idxmax()\n",
    "\n",
    "print(f\"\\n🏆 Key Findings:\")\n",
    "print(f\"   • Best Success Rate: {best_condition} ({condition_stats.loc[best_condition, 'Success_Rate']:.1f}%)\")\n",
    "print(f\"   • Needs Improvement: {worst_condition} ({condition_stats.loc[worst_condition, 'Success_Rate']:.1f}%)\")\n",
    "print(f\"   • Most Expensive: {most_expensive} (${condition_stats.loc[most_expensive, 'Avg_Cost']:,.2f})\")\n"
   ]
  },
  {
   "cell_type": "code",
   "execution_count": 6,
   "id": "69d29026",
   "metadata": {},
   "outputs": [
    {
     "name": "stdout",
     "output_type": "stream",
     "text": [
      "\n",
      "============================================================\n",
      "TREATMENT TYPE EFFECTIVENESS\n",
      "============================================================\n",
      "\n",
      "                 Patient_Count  Avg_Cost  Success_Rate  Avg_Stay\n",
      "treatment_type                                                 \n",
      "Medication                 29  10979.31          93.0      5.00\n",
      "Surgery                    23  17386.96          87.0      5.91\n",
      "Therapy                    18  10483.33         100.0      4.33\n"
     ]
    }
   ],
   "source": [
    "# ==================== STEP 5: TREATMENT TYPE ANALYSIS ====================\n",
    "print(\"\\n\" + \"=\" * 60)\n",
    "print(\"TREATMENT TYPE EFFECTIVENESS\")\n",
    "print(\"=\" * 60)\n",
    "\n",
    "treatment_stats = df.groupby('treatment_type').agg({\n",
    "    'patient_id': 'count',\n",
    "    'total_cost': 'mean',\n",
    "    'success_binary': 'mean',\n",
    "    'length_of_stay': 'mean'\n",
    "}).round(2)\n",
    "\n",
    "treatment_stats.columns = ['Patient_Count', 'Avg_Cost', 'Success_Rate', 'Avg_Stay']\n",
    "treatment_stats['Success_Rate'] = (treatment_stats['Success_Rate'] * 100).round(1)\n",
    "\n",
    "print(\"\\n\", treatment_stats)\n"
   ]
  },
  {
   "cell_type": "code",
   "execution_count": 7,
   "id": "c2b04d6f",
   "metadata": {},
   "outputs": [
    {
     "name": "stdout",
     "output_type": "stream",
     "text": [
      "\n",
      "============================================================\n",
      "AGE GROUP ANALYSIS\n",
      "============================================================\n",
      "\n",
      "                 Patient_Count  Avg_Cost  Avg_Stay  Success_Rate\n",
      "age_group                                                      \n",
      "Young (18-35)              12   8716.67      3.92         100.0\n",
      "Middle (36-50)             19  11373.68      4.58         100.0\n",
      "Senior (51-65)             20  13225.00      5.30          90.0\n",
      "Elderly (66+)              19  16936.84      6.26          84.0\n",
      "\n",
      "📊 Age-Cost Correlation: 0.608\n",
      "   → Moderate positive correlation: Older patients tend to have higher costs\n"
     ]
    }
   ],
   "source": [
    "print(\"\\n\" + \"=\" * 60)\n",
    "print(\"AGE GROUP ANALYSIS\")\n",
    "print(\"=\" * 60)\n",
    "\n",
    "# Create age groups\n",
    "df['age_group'] = pd.cut(df['age'], bins=[0, 35, 50, 65, 100], \n",
    "                         labels=['Young (18-35)', 'Middle (36-50)', 'Senior (51-65)', 'Elderly (66+)'])\n",
    "\n",
    "age_analysis = df.groupby('age_group').agg({\n",
    "    'patient_id': 'count',\n",
    "    'total_cost': 'mean',\n",
    "    'length_of_stay': 'mean',\n",
    "    'success_binary': 'mean'\n",
    "}).round(2)\n",
    "\n",
    "age_analysis.columns = ['Patient_Count', 'Avg_Cost', 'Avg_Stay', 'Success_Rate']\n",
    "age_analysis['Success_Rate'] = (age_analysis['Success_Rate'] * 100).round(1)\n",
    "\n",
    "print(\"\\n\", age_analysis)\n",
    "\n",
    "# Correlation between age and cost\n",
    "age_cost_corr = df['age'].corr(df['total_cost'])\n",
    "print(f\"\\n📊 Age-Cost Correlation: {age_cost_corr:.3f}\")\n",
    "if age_cost_corr > 0.3:\n",
    "    print(\"   → Moderate positive correlation: Older patients tend to have higher costs\")\n"
   ]
  },
  {
   "cell_type": "code",
   "execution_count": 8,
   "id": "b3c82462",
   "metadata": {},
   "outputs": [
    {
     "name": "stdout",
     "output_type": "stream",
     "text": [
      "\n",
      "============================================================\n",
      "INSURANCE TYPE ANALYSIS\n",
      "============================================================\n",
      "\n",
      "                 Patient_Count  Avg_Cost  Avg_Stay\n",
      "insurance_type                                   \n",
      "Medicaid                    8   9375.00      4.12\n",
      "Medicare                   27  16359.26      6.00\n",
      "Private                    35  11151.43      4.69\n"
     ]
    }
   ],
   "source": [
    "# ==================== STEP 7: INSURANCE ANALYSIS ====================\n",
    "print(\"\\n\" + \"=\" * 60)\n",
    "print(\"INSURANCE TYPE ANALYSIS\")\n",
    "print(\"=\" * 60)\n",
    "\n",
    "insurance_stats = df.groupby('insurance_type').agg({\n",
    "    'patient_id': 'count',\n",
    "    'total_cost': 'mean',\n",
    "    'length_of_stay': 'mean'\n",
    "}).round(2)\n",
    "\n",
    "insurance_stats.columns = ['Patient_Count', 'Avg_Cost', 'Avg_Stay']\n",
    "print(\"\\n\", insurance_stats)\n"
   ]
  },
  {
   "cell_type": "code",
   "execution_count": 9,
   "id": "4a9186c5",
   "metadata": {},
   "outputs": [
    {
     "name": "stdout",
     "output_type": "stream",
     "text": [
      "\n",
      "============================================================\n",
      "MONTHLY ADMISSION TRENDS\n",
      "============================================================\n",
      "\n",
      "                  Admissions  Avg_Cost\n",
      "admission_month                      \n",
      "2024-01                  10  12690.00\n",
      "2024-02                  12  12750.00\n",
      "2024-03                  11  13654.55\n",
      "2024-04                  12  13208.33\n",
      "2024-05                  12  12291.67\n",
      "2024-06                  12  13616.67\n",
      "2024-07                   1   7500.00\n"
     ]
    }
   ],
   "source": [
    "# ==================== STEP 8: MONTHLY TRENDS ====================\n",
    "print(\"\\n\" + \"=\" * 60)\n",
    "print(\"MONTHLY ADMISSION TRENDS\")\n",
    "print(\"=\" * 60)\n",
    "\n",
    "monthly_trends = df.groupby('admission_month').agg({\n",
    "    'patient_id': 'count',\n",
    "    'total_cost': 'mean'\n",
    "}).round(2)\n",
    "\n",
    "monthly_trends.columns = ['Admissions', 'Avg_Cost']\n",
    "print(\"\\n\", monthly_trends)\n"
   ]
  },
  {
   "cell_type": "code",
   "execution_count": 10,
   "id": "3c37aa32",
   "metadata": {},
   "outputs": [
    {
     "name": "stdout",
     "output_type": "stream",
     "text": [
      "\n",
      "============================================================\n",
      "COST OPTIMIZATION OPPORTUNITIES\n",
      "============================================================\n",
      "\n",
      "💰 High-Cost, Long-Stay Cases: 24 patients\n",
      "   Average Cost: $18,904.17\n",
      "   Average Stay: 7.5 days\n",
      "   Top Conditions: {'Heart Disease': 15, 'Neurological': 9}\n"
     ]
    }
   ],
   "source": [
    "# ==================== STEP 9: COST OPTIMIZATION INSIGHTS ====================\n",
    "print(\"\\n\" + \"=\" * 60)\n",
    "print(\"COST OPTIMIZATION OPPORTUNITIES\")\n",
    "print(\"=\" * 60)\n",
    "\n",
    "# Find expensive conditions with long stays\n",
    "expensive_long_stay = df[(df['total_cost'] > df['total_cost'].median()) & \n",
    "                         (df['length_of_stay'] > df['length_of_stay'].median())]\n",
    "\n",
    "print(f\"\\n💰 High-Cost, Long-Stay Cases: {len(expensive_long_stay)} patients\")\n",
    "print(f\"   Average Cost: ${expensive_long_stay['total_cost'].mean():,.2f}\")\n",
    "print(f\"   Average Stay: {expensive_long_stay['length_of_stay'].mean():.1f} days\")\n",
    "print(f\"   Top Conditions: {expensive_long_stay['condition'].value_counts().head(3).to_dict()}\")\n"
   ]
  },
  {
   "cell_type": "code",
   "execution_count": 11,
   "id": "e477e502",
   "metadata": {},
   "outputs": [
    {
     "name": "stdout",
     "output_type": "stream",
     "text": [
      "\n",
      "============================================================\n",
      "STATISTICAL CORRELATIONS\n",
      "============================================================\n",
      "\n",
      "                   age  length_of_stay  total_cost  doctor_visits  \\\n",
      "age             1.000           0.466       0.608          0.423   \n",
      "length_of_stay  0.466           1.000       0.815          0.980   \n",
      "total_cost      0.608           0.815       1.000          0.799   \n",
      "doctor_visits   0.423           0.980       0.799          1.000   \n",
      "success_binary -0.284          -0.380      -0.292         -0.299   \n",
      "\n",
      "                success_binary  \n",
      "age                     -0.284  \n",
      "length_of_stay          -0.380  \n",
      "total_cost              -0.292  \n",
      "doctor_visits           -0.299  \n",
      "success_binary           1.000  \n",
      "\n",
      "🔍 Key Correlations:\n",
      "   • Length of Stay ↔ Cost: 0.815\n",
      "   • Age ↔ Length of Stay: 0.466\n",
      "   • Doctor Visits ↔ Cost: 0.799\n"
     ]
    }
   ],
   "source": [
    "# ==================== STEP 10: STATISTICAL INSIGHTS ====================\n",
    "print(\"\\n\" + \"=\" * 60)\n",
    "print(\"STATISTICAL CORRELATIONS\")\n",
    "print(\"=\" * 60)\n",
    "\n",
    "# Correlation matrix\n",
    "correlations = df[['age', 'length_of_stay', 'total_cost', 'doctor_visits', 'success_binary']].corr()\n",
    "print(\"\\n\", correlations.round(3))\n",
    "\n",
    "print(\"\\n🔍 Key Correlations:\")\n",
    "print(f\"   • Length of Stay ↔ Cost: {correlations.loc['length_of_stay', 'total_cost']:.3f}\")\n",
    "print(f\"   • Age ↔ Length of Stay: {correlations.loc['age', 'length_of_stay']:.3f}\")\n",
    "print(f\"   • Doctor Visits ↔ Cost: {correlations.loc['doctor_visits', 'total_cost']:.3f}\")\n"
   ]
  },
  {
   "cell_type": "code",
   "execution_count": 12,
   "id": "44309375",
   "metadata": {},
   "outputs": [
    {
     "name": "stdout",
     "output_type": "stream",
     "text": [
      "\n",
      "============================================================\n",
      "GENERATING DASHBOARD DATA\n",
      "============================================================\n",
      "✅ Analysis complete! Results saved to 'analysis_results.json'\n"
     ]
    }
   ],
   "source": [
    "# ==================== STEP 11: SAVE RESULTS FOR DASHBOARD ====================\n",
    "print(\"\\n\" + \"=\" * 60)\n",
    "print(\"GENERATING DASHBOARD DATA\")\n",
    "print(\"=\" * 60)\n",
    "\n",
    "# Prepare data for dashboard\n",
    "dashboard_data = {\n",
    "    'summary': {\n",
    "        'total_patients': int(total_patients),\n",
    "        'avg_stay': round(float(avg_length_stay), 1),\n",
    "        'avg_cost': round(float(avg_cost), 2),\n",
    "        'success_rate': round(float(success_rate), 1),\n",
    "        'readmission_rate': round(float(readmission_rate), 1)\n",
    "    },\n",
    "    'by_condition': condition_stats.reset_index().to_dict('records'),\n",
    "    'by_treatment': treatment_stats.reset_index().to_dict('records'),\n",
    "    'by_age_group': age_analysis.reset_index().to_dict('records'),\n",
    "    'monthly_trends': [\n",
    "        {'month': str(idx), 'admissions': int(row['Admissions']), 'avg_cost': round(float(row['Avg_Cost']), 2)}\n",
    "        for idx, row in monthly_trends.iterrows()\n",
    "    ]\n",
    "}\n",
    "\n",
    "# Save to JSON for dashboard\n",
    "with open('analysis_results.json', 'w') as f:\n",
    "    json.dump(dashboard_data, f, indent=2)\n",
    "\n",
    "print(\"✅ Analysis complete! Results saved to 'analysis_results.json'\")\n"
   ]
  },
  {
   "cell_type": "code",
   "execution_count": 13,
   "id": "52f5d397",
   "metadata": {},
   "outputs": [
    {
     "name": "stdout",
     "output_type": "stream",
     "text": [
      "\n",
      "============================================================\n",
      "💡 ACTIONABLE RECOMMENDATIONS\n",
      "============================================================\n",
      "\n",
      "1. 🎯 FOCUS ON HEART DISEASE\n",
      "   • Success rate is lowest at 67.0%\n",
      "   • Review treatment protocols and consider specialist consultation\n",
      "\n",
      "2. 💰 COST REDUCTION STRATEGY\n",
      "   • Neurological has highest average cost ($20,688.89)\n",
      "   • Consider preventive care programs to reduce acute cases\n",
      "\n",
      "3. 📅 RESOURCE ALLOCATION\n",
      "   • 24 patients require extended, expensive care\n",
      "   • Implement early intervention programs\n",
      "\n",
      "4. 🔄 REDUCE READMISSIONS\n",
      "   • Current readmission rate: 4.3%\n",
      "   • Strengthen discharge planning and follow-up care\n",
      "\n",
      "5. 📊 LEVERAGE SUCCESSFUL TREATMENTS\n",
      "   • Diabetes shows 100.0% success rate\n",
      "   • Apply best practices to other conditions\n",
      "\n",
      "============================================================\n",
      "Analysis complete! Ready for visualization.\n",
      "============================================================\n"
     ]
    }
   ],
   "source": [
    "# ==================== STEP 12: KEY RECOMMENDATIONS ====================\n",
    "print(\"\\n\" + \"=\" * 60)\n",
    "print(\"💡 ACTIONABLE RECOMMENDATIONS\")\n",
    "print(\"=\" * 60)\n",
    "\n",
    "print(f\"\"\"\n",
    "1. 🎯 FOCUS ON {worst_condition.upper()}\n",
    "   • Success rate is lowest at {condition_stats.loc[worst_condition, 'Success_Rate']:.1f}%\n",
    "   • Review treatment protocols and consider specialist consultation\n",
    "   \n",
    "2. 💰 COST REDUCTION STRATEGY\n",
    "   • {most_expensive} has highest average cost (${condition_stats.loc[most_expensive, 'Avg_Cost']:,.2f})\n",
    "   • Consider preventive care programs to reduce acute cases\n",
    "   \n",
    "3. 📅 RESOURCE ALLOCATION\n",
    "   • {len(expensive_long_stay)} patients require extended, expensive care\n",
    "   • Implement early intervention programs\n",
    "   \n",
    "4. 🔄 REDUCE READMISSIONS\n",
    "   • Current readmission rate: {readmission_rate:.1f}%\n",
    "   • Strengthen discharge planning and follow-up care\n",
    "   \n",
    "5. 📊 LEVERAGE SUCCESSFUL TREATMENTS\n",
    "   • {best_condition} shows {condition_stats.loc[best_condition, 'Success_Rate']:.1f}% success rate\n",
    "   • Apply best practices to other conditions\n",
    "\"\"\")\n",
    "\n",
    "print(\"=\" * 60)\n",
    "print(\"Analysis complete! Ready for visualization.\")\n",
    "print(\"=\" * 60)"
   ]
  }
 ],
 "metadata": {
  "kernelspec": {
   "display_name": ".venv (3.11.9)",
   "language": "python",
   "name": "python3"
  },
  "language_info": {
   "codemirror_mode": {
    "name": "ipython",
    "version": 3
   },
   "file_extension": ".py",
   "mimetype": "text/x-python",
   "name": "python",
   "nbconvert_exporter": "python",
   "pygments_lexer": "ipython3",
   "version": "3.11.9"
  }
 },
 "nbformat": 4,
 "nbformat_minor": 5
}
